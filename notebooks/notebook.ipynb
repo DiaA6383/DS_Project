{
 "cells": [
  {
   "cell_type": "code",
   "execution_count": 3,
   "id": "c1380f2c-bdd5-49c9-96f9-a3b17d8712e4",
   "metadata": {},
   "outputs": [
    {
     "data": {
      "text/html": [
       "<div>\n",
       "<style scoped>\n",
       "    .dataframe tbody tr th:only-of-type {\n",
       "        vertical-align: middle;\n",
       "    }\n",
       "\n",
       "    .dataframe tbody tr th {\n",
       "        vertical-align: top;\n",
       "    }\n",
       "\n",
       "    .dataframe thead th {\n",
       "        text-align: right;\n",
       "    }\n",
       "</style>\n",
       "<table border=\"1\" class=\"dataframe\">\n",
       "  <thead>\n",
       "    <tr style=\"text-align: right;\">\n",
       "      <th></th>\n",
       "      <th>Zip Code</th>\n",
       "      <th>Number of Households</th>\n",
       "      <th>Number of Families</th>\n",
       "      <th>Number of Families with Children</th>\n",
       "      <th>Number of Families with NO Children</th>\n",
       "      <th>Families with no Earners</th>\n",
       "      <th>Percent Distribution of Families</th>\n",
       "      <th>Percent Distribution of Families with Children</th>\n",
       "      <th>Percent Distribution of Families with NO Children</th>\n",
       "      <th>Median Income of all Households</th>\n",
       "      <th>Median Income of all Families</th>\n",
       "      <th>ZCTA5CE10</th>\n",
       "      <th>latitude</th>\n",
       "      <th>longitude</th>\n",
       "    </tr>\n",
       "  </thead>\n",
       "  <tbody>\n",
       "    <tr>\n",
       "      <th>0</th>\n",
       "      <td>10001</td>\n",
       "      <td>14273</td>\n",
       "      <td>4256</td>\n",
       "      <td>1543</td>\n",
       "      <td>2713</td>\n",
       "      <td>329</td>\n",
       "      <td>4256</td>\n",
       "      <td>36.3</td>\n",
       "      <td>63.7</td>\n",
       "      <td>101409</td>\n",
       "      <td>142042.0</td>\n",
       "      <td>10001</td>\n",
       "      <td>40.750634</td>\n",
       "      <td>-73.997176</td>\n",
       "    </tr>\n",
       "    <tr>\n",
       "      <th>1</th>\n",
       "      <td>10002</td>\n",
       "      <td>34737</td>\n",
       "      <td>16914</td>\n",
       "      <td>4650</td>\n",
       "      <td>12264</td>\n",
       "      <td>5433</td>\n",
       "      <td>16914</td>\n",
       "      <td>27.5</td>\n",
       "      <td>72.5</td>\n",
       "      <td>37093</td>\n",
       "      <td>38815.0</td>\n",
       "      <td>10002</td>\n",
       "      <td>40.715777</td>\n",
       "      <td>-73.986207</td>\n",
       "    </tr>\n",
       "    <tr>\n",
       "      <th>2</th>\n",
       "      <td>10003</td>\n",
       "      <td>25181</td>\n",
       "      <td>6855</td>\n",
       "      <td>2057</td>\n",
       "      <td>4798</td>\n",
       "      <td>786</td>\n",
       "      <td>6855</td>\n",
       "      <td>30.0</td>\n",
       "      <td>70.0</td>\n",
       "      <td>137533</td>\n",
       "      <td>219957.0</td>\n",
       "      <td>10003</td>\n",
       "      <td>40.731829</td>\n",
       "      <td>-73.989181</td>\n",
       "    </tr>\n",
       "    <tr>\n",
       "      <th>3</th>\n",
       "      <td>10004</td>\n",
       "      <td>2113</td>\n",
       "      <td>1062</td>\n",
       "      <td>605</td>\n",
       "      <td>457</td>\n",
       "      <td>37</td>\n",
       "      <td>1062</td>\n",
       "      <td>57.0</td>\n",
       "      <td>43.0</td>\n",
       "      <td>216017</td>\n",
       "      <td>247237.0</td>\n",
       "      <td>10004</td>\n",
       "      <td>40.694170</td>\n",
       "      <td>-74.015954</td>\n",
       "    </tr>\n",
       "    <tr>\n",
       "      <th>4</th>\n",
       "      <td>10005</td>\n",
       "      <td>4782</td>\n",
       "      <td>1311</td>\n",
       "      <td>635</td>\n",
       "      <td>676</td>\n",
       "      <td>0</td>\n",
       "      <td>1311</td>\n",
       "      <td>48.4</td>\n",
       "      <td>51.6</td>\n",
       "      <td>197188</td>\n",
       "      <td>250000.0</td>\n",
       "      <td>10005</td>\n",
       "      <td>40.706004</td>\n",
       "      <td>-74.008785</td>\n",
       "    </tr>\n",
       "  </tbody>\n",
       "</table>\n",
       "</div>"
      ],
      "text/plain": [
       "   Zip Code  Number of Households  Number of Families  \\\n",
       "0     10001                 14273                4256   \n",
       "1     10002                 34737               16914   \n",
       "2     10003                 25181                6855   \n",
       "3     10004                  2113                1062   \n",
       "4     10005                  4782                1311   \n",
       "\n",
       "   Number of Families with Children  Number of Families with NO Children  \\\n",
       "0                              1543                                 2713   \n",
       "1                              4650                                12264   \n",
       "2                              2057                                 4798   \n",
       "3                               605                                  457   \n",
       "4                               635                                  676   \n",
       "\n",
       "   Families with no Earners  Percent Distribution of Families  \\\n",
       "0                       329                              4256   \n",
       "1                      5433                             16914   \n",
       "2                       786                              6855   \n",
       "3                        37                              1062   \n",
       "4                         0                              1311   \n",
       "\n",
       "  Percent Distribution of Families with Children  \\\n",
       "0                                           36.3   \n",
       "1                                           27.5   \n",
       "2                                           30.0   \n",
       "3                                           57.0   \n",
       "4                                           48.4   \n",
       "\n",
       "  Percent Distribution of Families with NO Children  \\\n",
       "0                                              63.7   \n",
       "1                                              72.5   \n",
       "2                                              70.0   \n",
       "3                                              43.0   \n",
       "4                                              51.6   \n",
       "\n",
       "  Median Income of all Households  Median Income of all Families  ZCTA5CE10  \\\n",
       "0                          101409                       142042.0      10001   \n",
       "1                           37093                        38815.0      10002   \n",
       "2                          137533                       219957.0      10003   \n",
       "3                          216017                       247237.0      10004   \n",
       "4                          197188                       250000.0      10005   \n",
       "\n",
       "    latitude  longitude  \n",
       "0  40.750634 -73.997176  \n",
       "1  40.715777 -73.986207  \n",
       "2  40.731829 -73.989181  \n",
       "3  40.694170 -74.015954  \n",
       "4  40.706004 -74.008785  "
      ]
     },
     "execution_count": 3,
     "metadata": {},
     "output_type": "execute_result"
    }
   ],
   "source": [
    "import pandas as pd\n",
    "import matplotlib.pyplot as plt\n",
    "from sklearn.model_selection import train_test_split\n",
    "from sklearn.linear_model import LogisticRegression\n",
    "from sklearn.metrics import accuracy_score, roc_auc_score\n",
    "import os\n",
    "import geopandas as gpd\n",
    "import contextily as ctx\n",
    "from dataclasses import dataclass\n",
    "import numpy as np\n",
    "from scipy.integrate import odeint\n",
    "from IPython.core.getipython import get_ipython\n",
    "\n",
    "notebook_path = os.path.join(os.getcwd(), get_ipython().starting_dir)\n",
    "current_dir = os.path.dirname(notebook_path)\n",
    "\n",
    "CLEANED_DATA_PATH = os.path.join(current_dir, 'data/processed/cleaned_data.csv')\n",
    "SHAPERAW_DATA_PATH = os.path.join(current_dir, 'data/processed/shapefile/shapefile.shp')\n",
    "\n",
    "\n",
    "pd.read_csv(CLEANED_DATA_PATH).head()"
   ]
  },
  {
   "cell_type": "code",
   "execution_count": 4,
   "metadata": {},
   "outputs": [
    {
     "ename": "NameError",
     "evalue": "name 'data' is not defined",
     "output_type": "error",
     "traceback": [
      "\u001b[0;31m---------------------------------------------------------------------------\u001b[0m",
      "\u001b[0;31mNameError\u001b[0m                                 Traceback (most recent call last)",
      "\u001b[1;32m/Users/alejandrodiaz/Documents/GitHub/DS_Project/notebooks/notebook.ipynb Cell 2\u001b[0m line \u001b[0;36m6\n\u001b[1;32m      <a href='vscode-notebook-cell:/Users/alejandrodiaz/Documents/GitHub/DS_Project/notebooks/notebook.ipynb#W1sZmlsZQ%3D%3D?line=2'>3</a>\u001b[0m gdf \u001b[39m=\u001b[39m gpd\u001b[39m.\u001b[39mread_file(SHAPERAW_DATA_PATH)\n\u001b[1;32m      <a href='vscode-notebook-cell:/Users/alejandrodiaz/Documents/GitHub/DS_Project/notebooks/notebook.ipynb#W1sZmlsZQ%3D%3D?line=4'>5</a>\u001b[0m gdf[\u001b[39m'\u001b[39m\u001b[39mzcta\u001b[39m\u001b[39m'\u001b[39m] \u001b[39m=\u001b[39m gdf[\u001b[39m'\u001b[39m\u001b[39mzcta\u001b[39m\u001b[39m'\u001b[39m]\u001b[39m.\u001b[39mastype(\u001b[39mstr\u001b[39m)\n\u001b[0;32m----> <a href='vscode-notebook-cell:/Users/alejandrodiaz/Documents/GitHub/DS_Project/notebooks/notebook.ipynb#W1sZmlsZQ%3D%3D?line=5'>6</a>\u001b[0m data[\u001b[39m'\u001b[39m\u001b[39mZip Code\u001b[39m\u001b[39m'\u001b[39m] \u001b[39m=\u001b[39m data[\u001b[39m'\u001b[39m\u001b[39mZip Code\u001b[39m\u001b[39m'\u001b[39m]\u001b[39m.\u001b[39mastype(\u001b[39mstr\u001b[39m)\n\u001b[1;32m      <a href='vscode-notebook-cell:/Users/alejandrodiaz/Documents/GitHub/DS_Project/notebooks/notebook.ipynb#W1sZmlsZQ%3D%3D?line=6'>7</a>\u001b[0m merged \u001b[39m=\u001b[39m gdf\u001b[39m.\u001b[39mmerge(data, left_on\u001b[39m=\u001b[39m\u001b[39m'\u001b[39m\u001b[39mzcta\u001b[39m\u001b[39m'\u001b[39m, right_on\u001b[39m=\u001b[39m\u001b[39m'\u001b[39m\u001b[39mZip Code\u001b[39m\u001b[39m'\u001b[39m)\n\u001b[1;32m      <a href='vscode-notebook-cell:/Users/alejandrodiaz/Documents/GitHub/DS_Project/notebooks/notebook.ipynb#W1sZmlsZQ%3D%3D?line=7'>8</a>\u001b[0m merged[\u001b[39m'\u001b[39m\u001b[39mMedian Income of all Families\u001b[39m\u001b[39m'\u001b[39m] \u001b[39m=\u001b[39m pd\u001b[39m.\u001b[39mto_numeric(merged[\u001b[39m'\u001b[39m\u001b[39mMedian Income of all Families\u001b[39m\u001b[39m'\u001b[39m], errors\u001b[39m=\u001b[39m\u001b[39m'\u001b[39m\u001b[39mcoerce\u001b[39m\u001b[39m'\u001b[39m)\n",
      "\u001b[0;31mNameError\u001b[0m: name 'data' is not defined"
     ]
    }
   ],
   "source": [
    "import geopandas as gpd\n",
    "SHAPERAW_DATA_PATH = '/Users/alejandrodiaz/Documents/GitHub/DS_Project/data/raw/Modified Zip Code Tabulation Areas (MODZCTA)/geo_export_152003af-efec-4038-9b6f-1963116a24c2.shp'\n",
    "gdf = gpd.read_file(SHAPERAW_DATA_PATH)\n",
    "\n",
    "data = pd.read_csv(CLEANED_DATA_PATH)\n",
    "\n",
    "gdf['zcta'] = gdf['zcta'].astype(str)\n",
    "data['Zip Code'] = data['Zip Code'].astype(str)\n",
    "merged = gdf.merge(data, left_on='zcta', right_on='Zip Code')\n",
    "merged['Median Income of all Families'] = pd.to_numeric(merged['Median Income of all Families'], errors='coerce')\n",
    "merged['Median Income of all Families'].fillna(merged['Median Income of all Families'].median(), inplace=True)\n",
    "merged['Income Level'] = pd.cut(merged['Median Income of all Families'], bins=4, labels=[\"Low\", \"Medium\", \"High\", \"Very high\"])\n",
    "\n",
    "# Plot the merged data\n",
    "fig, ax = plt.subplots(1, 1, figsize=(12, 8))\n",
    "merged.plot(column='Income Level', ax=ax, legend=True, cmap='Reds', categorical=True)\n",
    "leg = ax.get_legend()\n",
    "leg.set_title('Income Levels')\n",
    "ctx.add_basemap(ax, source=ctx.providers.OpenStreetMap.Mapnik, crs=merged.crs.to_string())\n",
    "ax.set_axis_off()\n",
    "plt.title('Heatmap of Median Family Income by Zip Code')\n",
    "plt.show()"
   ]
  },
  {
   "cell_type": "code",
   "execution_count": null,
   "metadata": {},
   "outputs": [
    {
     "data": {
      "image/png": "[encoded data removed]",
      "text/plain": [
       "<Figure size 640x480 with 1 Axes>"
      ]
     },
     "metadata": {},
     "output_type": "display_data"
    }
   ],
   "source": [
    "from dataclasses import dataclass\n",
    "import matplotlib.pyplot as plt\n",
    "import numpy as np\n",
    "from scipy.integrate import odeint\n",
    "\n",
    "\n",
    "def deriv(y, t, N, beta, gamma):\n",
    "    S, I, R = y\n",
    "    dSdt = -beta * S * I / N\n",
    "    dIdt = beta * S * I / N - gamma * I\n",
    "    dRdt = gamma * I\n",
    "    return dSdt, dIdt, dRdt\n",
    "\n",
    "\n",
    "@dataclass\n",
    "class SIRDiagram:\n",
    "    n: int = 1000\n",
    "    i: int = 1\n",
    "    r: int = 0\n",
    "    beta: float = 0.2\n",
    "    gamma: float = 1.0 / 10\n",
    "    steps: int = 160\n",
    "\n",
    "    def s(self) -> int:\n",
    "        return self.n - self.i - self.r\n",
    "\n",
    "    def plot(self):\n",
    "        t = np.linspace(0, self.steps, self.steps)\n",
    "        y0 = self.s(), self.i, self.r\n",
    "        N, beta, gamma = self.n, self.beta, self.gamma\n",
    "        ret = odeint(deriv, y0, t, args=(N, beta, gamma))\n",
    "        S, I, R = ret.T\n",
    "\n",
    "        fig = plt.figure(facecolor=\"w\")\n",
    "        ax = fig.add_subplot(111, facecolor=\"#dddddd\", axisbelow=True)\n",
    "        ax.plot(t, S / 1000, \"b\", alpha=0.5, lw=2, label=\"Potential Customer\")\n",
    "        ax.plot(t, I / 1000, \"r\", alpha=0.5, lw=2, label=\"Infected\")\n",
    "        ax.plot(t, R / 1000, \"g\", alpha=0.5, lw=2, label=\"Non Buyer\")\n",
    "\n",
    "        ax.set_xlabel(\"Time /days\")\n",
    "        ax.set_ylabel(\"Number (1000s)\")\n",
    "        ax.set_ylim(0, 1.2)\n",
    "        ax.yaxis.set_tick_params(length=0)\n",
    "        ax.xaxis.set_tick_params(length=0)\n",
    "        ax.grid(which=\"major\", c=\"w\", lw=2, ls=\"-\")\n",
    "        legend = ax.legend()\n",
    "        legend.get_frame().set_alpha(0.5)\n",
    "        for spine in (\"top\", \"right\", \"bottom\", \"left\"):\n",
    "            ax.spines[spine].set_visible(False)\n",
    "\n",
    "        plt.title(\"SIR Infection by Zip Code\")\n",
    "        plt.show()\n",
    "\n",
    "\n",
    "def main():\n",
    "    diagram = SIRDiagram()\n",
    "    diagram.plot()\n",
    "\n",
    "\n",
    "if __name__ == \"__main__\":\n",
    "    main()"
   ]
  },
  {
   "cell_type": "code",
   "execution_count": null,
   "metadata": {},
   "outputs": [
    {
     "name": "stdout",
     "output_type": "stream",
     "text": [
      "Index(['Column Name', 'Label'], dtype='object')\n",
      "Index(['GEO_ID', 'NAME', 'S1903_C01_001E', 'S1903_C01_001EA', 'S1903_C01_001M',\n",
      "       'S1903_C01_001MA', 'S1903_C01_002E', 'S1903_C01_002M',\n",
      "       'S1903_C01_002MA', 'S1903_C01_002EA',\n",
      "       ...\n",
      "       'S1903_C03_038MA', 'S1903_C03_039E', 'S1903_C03_039EA',\n",
      "       'S1903_C03_039M', 'S1903_C03_039MA', 'S1903_C03_040E',\n",
      "       'S1903_C03_040EA', 'S1903_C03_040M', 'S1903_C03_040MA', 'Unnamed: 482'],\n",
      "      dtype='object', length=483)\n"
     ]
    }
   ],
   "source": [
    "\"\"\"\n",
    "This script reads a CSV file and prints the second column.\n",
    "\"\"\"\n",
    "\n",
    "import pandas as pd\n",
    "\n",
    "RAW_DATA_PATH = '/Users/alejandrodiaz/Documents/GitHub/DS_Project/data/raw/ACSST5Y2021.S1903_2023-11-14T204901/data.csv'\n",
    "META_DATA_PATH = '/Users/alejandrodiaz/Documents/GitHub/DS_Project/data/raw/ACSST5Y2021.S1903_2023-11-14T204901/metadata.csv'\n",
    "metadf = pd.read_csv(META_DATA_PATH)\n",
    "print(metadf.columns)\n",
    "\n",
    "df = pd.read_csv(RAW_DATA_PATH)\n",
    "print(df.columns) \n",
    "\n",
    "#ok to the Column name in Metadata is in Data, the label is what the codes mean, lets rename the columns\n",
    "\n"
   ]
  },
  {
   "cell_type": "code",
   "execution_count": null,
   "metadata": {},
   "outputs": [],
   "source": [
    "import pandas as pd\n",
    "from sklearn.preprocessing import StandardScaler\n",
    "from sklearn.cluster import KMeans\n",
    "from sklearn.impute import SimpleImputer\n",
    "import matplotlib.pyplot as plt\n",
    "import seaborn as sns\n",
    "\n",
    "# Specify the actual directory path to your data\n",
    "data_path = '/Users/alejandrodiaz/Documents/GitHub/DS_Project/data/processed/cleaned_data.csv'  # Update this to the correct path\n",
    "\n",
    "# Step 0: Read the data into a pandas DataFrame\n",
    "data = pd.read_csv(data_path)\n",
    "\n",
    "# Step 1: Convert columns to numeric and handle missing values\n",
    "numeric_cols = ['Number of Households', 'Number of Families', \n",
    "                'Number of Families with Children', 'Number of Families with NO Children', \n",
    "                'Families with no Earners', 'Percent Distribution of Families', \n",
    "                'Percent Distribution of Families with Children', \n",
    "                'Percent Distribution of Families with NO Children', \n",
    "                'Median Income of all Households', 'Median Income of all Families']\n",
    "\n",
    "# Convert columns to numeric, coerce any errors to NaN\n",
    "for col in numeric_cols:\n",
    "    data[col] = pd.to_numeric(data[col], errors='coerce')\n",
    "\n",
    "# Use an imputer to fill in any NaN values with the median of the column\n",
    "imputer = SimpleImputer(strategy='median')\n",
    "data[numeric_cols] = imputer.fit_transform(data[numeric_cols])\n",
    "\n",
    "# Step 2: Scale the numeric features\n",
    "scaler = StandardScaler()\n",
    "scaled_features = scaler.fit_transform(data[numeric_cols])\n",
    "\n",
    "# Step 3: Determine the number of clusters using the Elbow Method\n",
    "sum_of_squared_distances = []\n",
    "K = range(1, 11)\n",
    "for k in K:\n",
    "    km = KMeans(n_clusters=k, random_state=42)\n",
    "    km.fit(scaled_features)\n",
    "    sum_of_squared_distances.append(km.inertia_)\n",
    "\n",
    "# Plot the Elbow Method results\n",
    "plt.figure(figsize=(10, 6))\n",
    "plt.plot(K, sum_of_squared_distances, 'bx-')\n",
    "plt.xlabel('k')\n",
    "plt.ylabel('Sum of Squared Distances')\n",
    "plt.title('Elbow Method For Optimal k')\n",
    "plt.show()\n",
    "\n",
    "# Step 4: Run K-means clustering with the chosen number of clusters\n",
    "# (Based on the plot, let's say the optimal number is found to be 4)\n",
    "optimal_k = 4\n",
    "kmeans = KMeans(n_clusters=optimal_k, random_state=42)\n",
    "data['Cluster'] = kmeans.fit_predict(scaled_features)\n",
    "\n",
    "# Step 5: Analyze the Results\n",
    "# Calculate the mean of each cluster\n",
    "cluster_means = data.groupby('Cluster')[numeric_cols].mean()\n",
    "print(cluster_means)\n",
    "\n",
    "# Step 6: Visualization\n",
    "# Create a scatter plot for visualization\n",
    "plt.figure(figsize=(10, 6))\n",
    "sns.scatterplot(data=data, x='Zip Code', y='Median Income of all Families', hue='Cluster', palette='viridis')\n",
    "plt.title('K-means Clustering of Zip Codes by Median Income')\n",
    "plt.legend(title='Cluster')\n",
    "plt.xticks(rotation=90)  # Rotate x-axis labels if needed\n",
    "plt.tight_layout()  # Adjust layout to fit the labels\n",
    "plt.show()\n"
   ]
  },
  {
   "cell_type": "code",
   "execution_count": null,
   "metadata": {},
   "outputs": [],
   "source": [
    "import pandas as pd\n",
    "from sklearn.preprocessing import StandardScaler\n",
    "from sklearn.cluster import KMeans\n",
    "from sklearn.impute import SimpleImputer\n",
    "import matplotlib.pyplot as plt\n",
    "import seaborn as sns\n",
    "import geopandas as gpd\n",
    "\n",
    "# Load your data\n",
    "data_path = '/Users/alejandrodiaz/Documents/GitHub/DS_Project/data/processed/cleaned_data.csv'\n",
    "data = pd.read_csv(data_path)\n",
    "\n",
    "# Convert 'Zip Code' to string\n",
    "data['Zip Code'] = data['Zip Code'].astype(str)\n",
    "\n",
    "# Preprocessing and Cleaning\n",
    "numeric_cols = ['Number of Households', 'Number of Families', 'Number of Families with Children', \n",
    "                'Number of Families with NO Children', 'Families with no Earners', \n",
    "                'Percent Distribution of Families', 'Percent Distribution of Families with Children', \n",
    "                'Percent Distribution of Families with NO Children', 'Median Income of all Households', \n",
    "                'Median Income of all Families']\n",
    "for col in numeric_cols:\n",
    "    data[col] = pd.to_numeric(data[col], errors='coerce')\n",
    "\n",
    "imputer = SimpleImputer(strategy='median')\n",
    "data[numeric_cols] = imputer.fit_transform(data[numeric_cols])\n",
    "\n",
    "# Scaling the features\n",
    "scaler = StandardScaler()\n",
    "scaled_features = scaler.fit_transform(data[numeric_cols])\n",
    "\n",
    "# Determine the number of clusters (Elbow Method)\n",
    "optimal_k = 4\n",
    "kmeans = KMeans(n_clusters=optimal_k, random_state=42)\n",
    "data['Cluster'] = kmeans.fit_predict(scaled_features)\n",
    "\n",
    "# Load the shapefile for ZIP code boundaries\n",
    "zip_shapes_path = '/Users/alejandrodiaz/Documents/GitHub/DS_Project/data/raw/Modified Zip Code Tabulation Areas (MODZCTA)/geo_export_152003af-efec-4038-9b6f-1963116a24c2.shp'\n",
    "zip_shapes = gpd.read_file(zip_shapes_path)\n",
    "zip_shapes['Zip Code'] = zip_shapes['zcta'].astype(str)  # Ensure this column is the correct ZIP code column and convert to string\n",
    "\n",
    "# Merge clustering results with ZIP code shape data\n",
    "map_data = zip_shapes.merge(data, left_on='Zip Code', right_on='Zip Code')\n",
    "\n",
    "# Plotting\n",
    "fig, ax = plt.subplots(figsize=(15, 15))\n",
    "map_data.plot(column='Cluster', categorical=True, legend=True, ax=ax)\n",
    "ax.set_axis_off()\n",
    "plt.show()\n"
   ]
  },
  {
   "cell_type": "code",
   "execution_count": null,
   "metadata": {},
   "outputs": [
    {
     "name": "stderr",
     "output_type": "stream",
     "text": [
      "/Users/alejandrodiaz/Documents/GitHub/DS_Project/venv/lib/python3.11/site-packages/sklearn/cluster/_kmeans.py:1416: FutureWarning:\n",
      "\n",
      "The default value of `n_init` will change from 10 to 'auto' in 1.4. Set the value of `n_init` explicitly to suppress the warning\n",
      "\n"
     ]
    },
    {
     "data": {
      "application/vnd.plotly.v1+json": {
       "config": {
        "linkText": "Export to plot.ly",
        "plotlyServerURL": "https://plot.ly",
        "showLink": false
       },
       "data": [
        {
         "marker": {
          "color": [
           1,
           2,
           0,
           0,
           0,
           0,
           0,
           1,
           0,
           0,
           0,
           0,
           0,
           0,
           0,
           0,
           0,
           1,
           0,
           0,
           0,
           0,
           1,
           1,
           1,
           0,
           1,
           1,
           1,
           1,
           1,
           1,
           1,
           1,
           1,
           2,
           1,
           1,
           0,
           0,
           0,
           0,
           1,
           1,
           1,
           1,
           1,
           1,
           0,
           1,
           1,
           1,
           1,
           1,
           1,
           1,
           1,
           1,
           1,
           1,
           1,
           1,
           1,
           1,
           2,
           2,
           2,
           0,
           0,
           2,
           2,
           2,
           2,
           2,
           2,
           2,
           2,
           2,
           2,
           2,
           2,
           2,
           1,
           1,
           1,
           1,
           1,
           1,
           1,
           1,
           1,
           1,
           1,
           1,
           1,
           1,
           1,
           1,
           1,
           1,
           1,
           1,
           1,
           1,
           1,
           1,
           1,
           3,
           3,
           3,
           3,
           3,
           3,
           3,
           0,
           3,
           3,
           3,
           2,
           1,
           1,
           1,
           1,
           1,
           1,
           0,
           0,
           2,
           2,
           2,
           2,
           2,
           2,
           2,
           2,
           2,
           2,
           2,
           2,
           0,
           2,
           0,
           2,
           2,
           2,
           2,
           1,
           2,
           2,
           2,
           2,
           2,
           2,
           2,
           2,
           2,
           2,
           2,
           2,
           2,
           2,
           2,
           2,
           1,
           1,
           1,
           1,
           1,
           1,
           3,
           3,
           3,
           3,
           3,
           1,
           3,
           1,
           1,
           1,
           1,
           1,
           1,
           1,
           1,
           3,
           1,
           1,
           1,
           2,
           3,
           3,
           3,
           2,
           3,
           2,
           2,
           2,
           2,
           2,
           2,
           3,
           3,
           1,
           3,
           3,
           3,
           3,
           2,
           1,
           3,
           3,
           1,
           2,
           3,
           3,
           3,
           3,
           3,
           3,
           3,
           3,
           3,
           3,
           3,
           3,
           3,
           3,
           3,
           3,
           3,
           3,
           3,
           3,
           3,
           3,
           3,
           3,
           3,
           3,
           3,
           3,
           3,
           3,
           3,
           3,
           3,
           3,
           3,
           3,
           3,
           3,
           3,
           3,
           3,
           2,
           2,
           2,
           2,
           2
          ],
          "colorscale": [
           [
            0,
            "rgb(12,51,131)"
           ],
           [
            0.25,
            "rgb(10,136,186)"
           ],
           [
            0.5,
            "rgb(242,211,56)"
           ],
           [
            0.75,
            "rgb(242,143,56)"
           ],
           [
            1,
            "rgb(217,30,30)"
           ]
          ],
          "opacity": 0.5,
          "showscale": true,
          "size": [
           56.8168,
           15.526,
           87.9828,
           98.8948,
           100,
           87.5944,
           100,
           44.004,
           83.0732,
           89.3856,
           67.8332,
           73.2116,
           100,
           88.036,
           90.6528,
           84.1172,
           73.8124,
           40.505,
           95.0644,
           100,
           89.2976,
           98.9404,
           57.4688,
           27.5508,
           26.1244,
           99.9392,
           16.4892,
           21.9456,
           22.9472,
           22.9092,
           29.954,
           28.4716,
           18.1332,
           52.7084,
           25.3196,
           40.4412,
           17.2124,
           27.2592,
           60.198,
           92.6064,
           72.6752,
           92.3432,
           40.505,
           40.505,
           40.505,
           40.505,
           40.505,
           40.505,
           82.4388,
           40.505,
           40.505,
           40.505,
           40.505,
           40.505,
           40.505,
           40.505,
           40.505,
           40.505,
           40.505,
           40.505,
           40.505,
           40.505,
           40.505,
           40.505,
           40.505,
           40.505,
           40.505,
           88.6564,
           100,
           41.1116,
           39.4152,
           34.2864,
           35.9312,
           39.0344,
           42.6292,
           51.6216,
           52.9312,
           50.0112,
           45.7328,
           40.505,
           47.7208,
           44.596,
           16.6496,
           15.9188,
           16.604,
           13.1976,
           13.5248,
           14.5884,
           18.908,
           17.9928,
           17.5676,
           15.29,
           27.532,
           25.9876,
           30.1712,
           51.4816,
           41.6144,
           29.0088,
           20.9,
           18.3144,
           31.8736,
           35.0472,
           48.0956,
           17.2408,
           23.8728,
           16.0488,
           26.4624,
           47.3216,
           54.5,
           53.254,
           72.0908,
           59.91,
           64.5456,
           52.6184,
           100,
           61.602,
           40.505,
           71.4076,
           30.9312,
           45.9352,
           41.9168,
           35.9172,
           37.4036,
           39.9496,
           32.2796,
           85.19,
           78.3,
           30.7236,
           26.1436,
           26.6912,
           17.7964,
           22.4356,
           23.1552,
           43.34,
           35.696,
           29.2452,
           18.9084,
           21.9532,
           26.934,
           77.1668,
           37.6064,
           70.65,
           36.6616,
           18.6956,
           22.318,
           29.178,
           48.9168,
           28.8436,
           19.3936,
           30.9308,
           29.5724,
           35.91,
           35.4048,
           30.7692,
           61.5716,
           26.3396,
           24.9316,
           40.5688,
           30.1952,
           34.9292,
           20.4296,
           61.1692,
           18.4508,
           23.8916,
           21.0224,
           31.7976,
           40.204,
           34.3984,
           40.505,
           51.7916,
           42.6904,
           53.084,
           47.0832,
           41.3224,
           33.3856,
           46.298,
           33.12,
           23.256,
           28.9196,
           35.4436,
           40.505,
           25.6184,
           26.1384,
           40.266,
           48.2288,
           29.2348,
           37.6008,
           42.6076,
           31.884,
           48.302,
           42.206,
           44.1516,
           41.6648,
           42.2192,
           32.2624,
           34.2452,
           32.6252,
           35.8348,
           36.4476,
           31.898,
           39.714,
           34.0824,
           40.505,
           46.54,
           39.9528,
           37.7096,
           42.9704,
           40.505,
           28.6456,
           31.546,
           34.5944,
           31.2004,
           33.7076,
           40.505,
           58.4248,
           58.2868,
           60.4,
           55.7384,
           49.9628,
           49.6408,
           46.9488,
           46.7124,
           82.066,
           39.926,
           76.298,
           40.505,
           72.8124,
           40.505,
           34.0764,
           58.1292,
           40.4312,
           55.192,
           40.505,
           64.3252,
           48.3808,
           62.052,
           85.2956,
           55.2276,
           63.2848,
           60.7024,
           68.5784,
           100,
           68.682,
           72.852,
           58.6016,
           40.0676,
           100,
           73.5,
           74.6952,
           54.8836,
           56.7408,
           53.8864,
           65.1284,
           74.3888,
           29.7552,
           26.018,
           29.0112,
           47.0332,
           68.604
          ]
         },
         "mode": "markers",
         "text": [
          "ZIP: 10001<br>Income: $142042.0",
          "ZIP: 10002<br>Income: $38815.0",
          "ZIP: 10003<br>Income: $219957.0",
          "ZIP: 10004<br>Income: $247237.0",
          "ZIP: 10005<br>Income: $250000.0",
          "ZIP: 10006<br>Income: $218986.0",
          "ZIP: 10007<br>Income: $250000.0",
          "ZIP: 10009<br>Income: $110010.0",
          "ZIP: 10010<br>Income: $207683.0",
          "ZIP: 10011<br>Income: $223464.0",
          "ZIP: 10012<br>Income: $169583.0",
          "ZIP: 10013<br>Income: $183029.0",
          "ZIP: 10014<br>Income: $250000.0",
          "ZIP: 10016<br>Income: $220090.0",
          "ZIP: 10017<br>Income: $226632.0",
          "ZIP: 10018<br>Income: $210293.0",
          "ZIP: 10019<br>Income: $184531.0",
          "ZIP: 10020<br>Income: $101262.5",
          "ZIP: 10021<br>Income: $237661.0",
          "ZIP: 10022<br>Income: $250000.0",
          "ZIP: 10023<br>Income: $223244.0",
          "ZIP: 10024<br>Income: $247351.0",
          "ZIP: 10025<br>Income: $143672.0",
          "ZIP: 10026<br>Income: $68877.0",
          "ZIP: 10027<br>Income: $65311.0",
          "ZIP: 10028<br>Income: $249848.0",
          "ZIP: 10029<br>Income: $41223.0",
          "ZIP: 10030<br>Income: $54864.0",
          "ZIP: 10031<br>Income: $57368.0",
          "ZIP: 10032<br>Income: $57273.0",
          "ZIP: 10033<br>Income: $74885.0",
          "ZIP: 10034<br>Income: $71179.0",
          "ZIP: 10035<br>Income: $45333.0",
          "ZIP: 10036<br>Income: $131771.0",
          "ZIP: 10037<br>Income: $63299.0",
          "ZIP: 10038<br>Income: $101103.0",
          "ZIP: 10039<br>Income: $43031.0",
          "ZIP: 10040<br>Income: $68148.0",
          "ZIP: 10044<br>Income: $150495.0",
          "ZIP: 10065<br>Income: $231516.0",
          "ZIP: 10069<br>Income: $181688.0",
          "ZIP: 10075<br>Income: $230858.0",
          "ZIP: 10103<br>Income: $101262.5",
          "ZIP: 10110<br>Income: $101262.5",
          "ZIP: 10111<br>Income: $101262.5",
          "ZIP: 10112<br>Income: $101262.5",
          "ZIP: 10115<br>Income: $101262.5",
          "ZIP: 10119<br>Income: $101262.5",
          "ZIP: 10128<br>Income: $206097.0",
          "ZIP: 10152<br>Income: $101262.5",
          "ZIP: 10153<br>Income: $101262.5",
          "ZIP: 10154<br>Income: $101262.5",
          "ZIP: 10162<br>Income: $101262.5",
          "ZIP: 10165<br>Income: $101262.5",
          "ZIP: 10167<br>Income: $101262.5",
          "ZIP: 10168<br>Income: $101262.5",
          "ZIP: 10169<br>Income: $101262.5",
          "ZIP: 10170<br>Income: $101262.5",
          "ZIP: 10171<br>Income: $101262.5",
          "ZIP: 10172<br>Income: $101262.5",
          "ZIP: 10173<br>Income: $101262.5",
          "ZIP: 10174<br>Income: $101262.5",
          "ZIP: 10177<br>Income: $101262.5",
          "ZIP: 10199<br>Income: $101262.5",
          "ZIP: 10271<br>Income: $101262.5",
          "ZIP: 10278<br>Income: $101262.5",
          "ZIP: 10279<br>Income: $101262.5",
          "ZIP: 10280<br>Income: $221641.0",
          "ZIP: 10282<br>Income: $250000.0",
          "ZIP: 10301<br>Income: $102779.0",
          "ZIP: 10302<br>Income: $98538.0",
          "ZIP: 10303<br>Income: $85716.0",
          "ZIP: 10304<br>Income: $89828.0",
          "ZIP: 10305<br>Income: $97586.0",
          "ZIP: 10306<br>Income: $106573.0",
          "ZIP: 10307<br>Income: $129054.0",
          "ZIP: 10308<br>Income: $132328.0",
          "ZIP: 10309<br>Income: $125028.0",
          "ZIP: 10310<br>Income: $114332.0",
          "ZIP: 10311<br>Income: $101262.5",
          "ZIP: 10312<br>Income: $119302.0",
          "ZIP: 10314<br>Income: $111490.0",
          "ZIP: 10451<br>Income: $41624.0",
          "ZIP: 10452<br>Income: $39797.0",
          "ZIP: 10453<br>Income: $41510.0",
          "ZIP: 10454<br>Income: $32994.0",
          "ZIP: 10455<br>Income: $33812.0",
          "ZIP: 10456<br>Income: $36471.0",
          "ZIP: 10457<br>Income: $47270.0",
          "ZIP: 10458<br>Income: $44982.0",
          "ZIP: 10459<br>Income: $43919.0",
          "ZIP: 10460<br>Income: $38225.0",
          "ZIP: 10461<br>Income: $68830.0",
          "ZIP: 10462<br>Income: $64969.0",
          "ZIP: 10463<br>Income: $75428.0",
          "ZIP: 10464<br>Income: $128704.0",
          "ZIP: 10465<br>Income: $104036.0",
          "ZIP: 10466<br>Income: $72522.0",
          "ZIP: 10467<br>Income: $52250.0",
          "ZIP: 10468<br>Income: $45786.0",
          "ZIP: 10469<br>Income: $79684.0",
          "ZIP: 10470<br>Income: $87618.0",
          "ZIP: 10471<br>Income: $120239.0",
          "ZIP: 10472<br>Income: $43102.0",
          "ZIP: 10473<br>Income: $59682.0",
          "ZIP: 10474<br>Income: $40122.0",
          "ZIP: 10475<br>Income: $66156.0",
          "ZIP: 11004<br>Income: $118304.0",
          "ZIP: 11005<br>Income: $136250.0",
          "ZIP: 11010<br>Income: $133135.0",
          "ZIP: 11020<br>Income: $180227.0",
          "ZIP: 11021<br>Income: $149775.0",
          "ZIP: 11023<br>Income: $161364.0",
          "ZIP: 11024<br>Income: $131546.0",
          "ZIP: 11030<br>Income: $250000.0",
          "ZIP: 11040<br>Income: $154005.0",
          "ZIP: 11042<br>Income: $101262.5",
          "ZIP: 11050<br>Income: $178519.0",
          "ZIP: 11096<br>Income: $77328.0",
          "ZIP: 11101<br>Income: $114838.0",
          "ZIP: 11102<br>Income: $104792.0",
          "ZIP: 11103<br>Income: $89793.0",
          "ZIP: 11104<br>Income: $93509.0",
          "ZIP: 11105<br>Income: $99874.0",
          "ZIP: 11106<br>Income: $80699.0",
          "ZIP: 11109<br>Income: $212975.0",
          "ZIP: 11201<br>Income: $195750.0",
          "ZIP: 11203<br>Income: $76809.0",
          "ZIP: 11204<br>Income: $65359.0",
          "ZIP: 11205<br>Income: $66728.0",
          "ZIP: 11206<br>Income: $44491.0",
          "ZIP: 11207<br>Income: $56089.0",
          "ZIP: 11208<br>Income: $57888.0",
          "ZIP: 11209<br>Income: $108350.0",
          "ZIP: 11210<br>Income: $89240.0",
          "ZIP: 11211<br>Income: $73113.0",
          "ZIP: 11212<br>Income: $47271.0",
          "ZIP: 11213<br>Income: $54883.0",
          "ZIP: 11214<br>Income: $67335.0",
          "ZIP: 11215<br>Income: $192917.0",
          "ZIP: 11216<br>Income: $94016.0",
          "ZIP: 11217<br>Income: $176625.0",
          "ZIP: 11218<br>Income: $91654.0",
          "ZIP: 11219<br>Income: $46739.0",
          "ZIP: 11220<br>Income: $55795.0",
          "ZIP: 11221<br>Income: $72945.0",
          "ZIP: 11222<br>Income: $122292.0",
          "ZIP: 11223<br>Income: $72109.0",
          "ZIP: 11224<br>Income: $48484.0",
          "ZIP: 11225<br>Income: $77327.0",
          "ZIP: 11226<br>Income: $73931.0",
          "ZIP: 11228<br>Income: $89775.0",
          "ZIP: 11229<br>Income: $88512.0",
          "ZIP: 11230<br>Income: $76923.0",
          "ZIP: 11231<br>Income: $153929.0",
          "ZIP: 11232<br>Income: $65849.0",
          "ZIP: 11233<br>Income: $62329.0",
          "ZIP: 11234<br>Income: $101422.0",
          "ZIP: 11235<br>Income: $75488.0",
          "ZIP: 11236<br>Income: $87323.0",
          "ZIP: 11237<br>Income: $51074.0",
          "ZIP: 11238<br>Income: $152923.0",
          "ZIP: 11239<br>Income: $46127.0",
          "ZIP: 11354<br>Income: $59729.0",
          "ZIP: 11355<br>Income: $52556.0",
          "ZIP: 11356<br>Income: $79494.0",
          "ZIP: 11357<br>Income: $100510.0",
          "ZIP: 11358<br>Income: $85996.0",
          "ZIP: 11359<br>Income: $101262.5",
          "ZIP: 11360<br>Income: $129479.0",
          "ZIP: 11361<br>Income: $106726.0",
          "ZIP: 11362<br>Income: $132710.0",
          "ZIP: 11363<br>Income: $117708.0",
          "ZIP: 11364<br>Income: $103306.0",
          "ZIP: 11365<br>Income: $83464.0",
          "ZIP: 11366<br>Income: $115745.0",
          "ZIP: 11367<br>Income: $82800.0",
          "ZIP: 11368<br>Income: $58140.0",
          "ZIP: 11369<br>Income: $72299.0",
          "ZIP: 11370<br>Income: $88609.0",
          "ZIP: 11371<br>Income: $101262.5",
          "ZIP: 11372<br>Income: $64046.0",
          "ZIP: 11373<br>Income: $65346.0",
          "ZIP: 11374<br>Income: $100665.0",
          "ZIP: 11375<br>Income: $120572.0",
          "ZIP: 11377<br>Income: $73087.0",
          "ZIP: 11378<br>Income: $94002.0",
          "ZIP: 11379<br>Income: $106519.0",
          "ZIP: 11385<br>Income: $79710.0",
          "ZIP: 11411<br>Income: $120755.0",
          "ZIP: 11412<br>Income: $105515.0",
          "ZIP: 11413<br>Income: $110379.0",
          "ZIP: 11414<br>Income: $104162.0",
          "ZIP: 11415<br>Income: $105548.0",
          "ZIP: 11416<br>Income: $80656.0",
          "ZIP: 11417<br>Income: $85613.0",
          "ZIP: 11418<br>Income: $81563.0",
          "ZIP: 11419<br>Income: $89587.0",
          "ZIP: 11420<br>Income: $91119.0",
          "ZIP: 11421<br>Income: $79745.0",
          "ZIP: 11422<br>Income: $99285.0",
          "ZIP: 11423<br>Income: $85206.0",
          "ZIP: 11424<br>Income: $101262.5",
          "ZIP: 11426<br>Income: $116350.0",
          "ZIP: 11427<br>Income: $99882.0",
          "ZIP: 11428<br>Income: $94274.0",
          "ZIP: 11429<br>Income: $107426.0",
          "ZIP: 11430<br>Income: $101262.5",
          "ZIP: 11432<br>Income: $71614.0",
          "ZIP: 11433<br>Income: $78865.0",
          "ZIP: 11434<br>Income: $86486.0",
          "ZIP: 11435<br>Income: $78001.0",
          "ZIP: 11436<br>Income: $84269.0",
          "ZIP: 11451<br>Income: $101262.5",
          "ZIP: 11501<br>Income: $146062.0",
          "ZIP: 11507<br>Income: $145717.0",
          "ZIP: 11509<br>Income: $151000.0",
          "ZIP: 11510<br>Income: $139346.0",
          "ZIP: 11514<br>Income: $124907.0",
          "ZIP: 11516<br>Income: $124102.0",
          "ZIP: 11518<br>Income: $117372.0",
          "ZIP: 11520<br>Income: $116781.0",
          "ZIP: 11530<br>Income: $205165.0",
          "ZIP: 11542<br>Income: $99815.0",
          "ZIP: 11545<br>Income: $190745.0",
          "ZIP: 11547<br>Income: $101262.5",
          "ZIP: 11548<br>Income: $182031.0",
          "ZIP: 11549<br>Income: $101262.5",
          "ZIP: 11550<br>Income: $85191.0",
          "ZIP: 11552<br>Income: $145323.0",
          "ZIP: 11553<br>Income: $101078.0",
          "ZIP: 11554<br>Income: $137980.0",
          "ZIP: 11556<br>Income: $101262.5",
          "ZIP: 11557<br>Income: $160813.0",
          "ZIP: 11558<br>Income: $120952.0",
          "ZIP: 11559<br>Income: $155130.0",
          "ZIP: 11560<br>Income: $213239.0",
          "ZIP: 11561<br>Income: $138069.0",
          "ZIP: 11563<br>Income: $158212.0",
          "ZIP: 11565<br>Income: $151756.0",
          "ZIP: 11566<br>Income: $171446.0",
          "ZIP: 11568<br>Income: $250000.0",
          "ZIP: 11569<br>Income: $171705.0",
          "ZIP: 11570<br>Income: $182130.0",
          "ZIP: 11572<br>Income: $146504.0",
          "ZIP: 11575<br>Income: $100169.0",
          "ZIP: 11576<br>Income: $250000.0",
          "ZIP: 11577<br>Income: $183750.0",
          "ZIP: 11579<br>Income: $186738.0",
          "ZIP: 11580<br>Income: $137209.0",
          "ZIP: 11581<br>Income: $141852.0",
          "ZIP: 11590<br>Income: $134716.0",
          "ZIP: 11596<br>Income: $162821.0",
          "ZIP: 11598<br>Income: $185972.0",
          "ZIP: 11691<br>Income: $74388.0",
          "ZIP: 11692<br>Income: $65045.0",
          "ZIP: 11693<br>Income: $72528.0",
          "ZIP: 11694<br>Income: $117583.0",
          "ZIP: 11697<br>Income: $171510.0"
         ],
         "type": "scatter",
         "x": [
          -73.99717580193432,
          -73.98620705735195,
          -73.98918097136645,
          -74.015953626161,
          -74.00878533065966,
          -74.01295204386004,
          -74.00777070836604,
          -73.97863520066254,
          -73.98245519976358,
          -74.00062182940239,
          -73.99807841467556,
          -74.00490129099515,
          -74.0069853763967,
          -73.97829371513552,
          -73.97248914947842,
          -73.99313948120569,
          -73.98717915778884,
          -73.98003762912741,
          -73.95874055161057,
          -73.96794878286529,
          -73.98260236364953,
          -73.9748600129778,
          -73.9666222826187,
          -73.9526814152192,
          -73.95320375947394,
          -73.953513428246,
          -73.94397021043343,
          -73.94285586527745,
          -73.95004525664316,
          -73.94282965347831,
          -73.9340509901052,
          -73.92407240474562,
          -73.92957041668791,
          -73.98982781892849,
          -73.93737609157053,
          -74.00256445526175,
          -73.93621635414559,
          -73.93049375852308,
          -73.9499672224596,
          -73.96314385079442,
          -73.99034110907422,
          -73.95622186487293,
          -73.97766961926204,
          -73.98225637340892,
          -73.97759597767931,
          -73.97966814613702,
          -73.96374366566891,
          -73.99297878957199,
          -73.95001044116184,
          -73.9720314394841,
          -73.97243869031534,
          -73.9724874974388,
          -73.9499244171153,
          -73.97872225125246,
          -73.97477100595512,
          -73.97710321195123,
          -73.97609841455716,
          -73.97587656463223,
          -73.97385832392595,
          -73.97431479838619,
          -73.9793637207222,
          -73.97500349781632,
          -73.97593368592311,
          -73.99715193149456,
          -74.01054138707461,
          -74.00371745290934,
          -74.00866883913254,
          -74.01681207635457,
          -74.01529252963184,
          -74.09577302851913,
          -74.13772954384754,
          -74.16900280316986,
          -74.09336581550541,
          -74.07513540569482,
          -74.12545808562638,
          -74.23851349214227,
          -74.15041028900272,
          -74.22063739758009,
          -74.1161482360918,
          -74.17953387177384,
          -74.18153429545787,
          -74.16652675375592,
          -73.92383918433885,
          -73.92343799591868,
          -73.9135118131468,
          -73.91660419100832,
          -73.90858969428994,
          -73.9081214061225,
          -73.89866286299574,
          -73.88815954622623,
          -73.8929413489031,
          -73.87959762751852,
          -73.84057787574149,
          -73.8586334305188,
          -73.90663645245999,
          -73.80051409220323,
          -73.82311830123342,
          -73.84594313042454,
          -73.87395117823455,
          -73.90005697108016,
          -73.84813857570873,
          -73.86815951598432,
          -73.90176453912223,
          -73.86931027407186,
          -73.85873788840281,
          -73.8844744467085,
          -73.82528640675463,
          -73.71148542400297,
          -73.71422249194532,
          -73.67501856808613,
          -73.71275671354556,
          -73.72894445437429,
          -73.73335882499185,
          -73.74156983856318,
          -73.68881672297405,
          -73.67973279754173,
          -73.69720394139553,
          -73.69261215735992,
          -73.75301646502835,
          -73.93889152089467,
          -73.92592765358296,
          -73.91345766386591,
          -73.92020299417098,
          -73.90625022281922,
          -73.93179798761459,
          -73.957468132164,
          -73.98966410827029,
          -73.93437454896694,
          -73.98482636942397,
          -73.96624598635829,
          -73.94235784303763,
          -73.89420903013556,
          -73.87099068882488,
          -74.03014128866707,
          -73.9463231892846,
          -73.95310486120626,
          -73.91301900602838,
          -73.93634174057976,
          -73.99621446011854,
          -73.98687881370434,
          -73.94931293360031,
          -73.97938481173911,
          -73.976041956206,
          -73.99666879791174,
          -74.01655229257814,
          -73.92787899026602,
          -73.94772094544876,
          -73.97342617470485,
          -73.98869169200381,
          -73.95421930993886,
          -73.95664888215502,
          -74.01306477046067,
          -73.94393900451263,
          -73.96510550538048,
          -74.0047249028994,
          -74.00579803144406,
          -73.9199357223923,
          -73.91070679615292,
          -73.94879108065953,
          -73.90102649774023,
          -73.9210708127259,
          -73.9638005822638,
          -73.87969954821651,
          -73.82723391777182,
          -73.82099624250858,
          -73.84154762547315,
          -73.81093311274441,
          -73.79637296122598,
          -73.77672413708511,
          -73.78154815169353,
          -73.77242126262345,
          -73.73687258196416,
          -73.74651531964166,
          -73.7605833053617,
          -73.7947849134075,
          -73.78501757382841,
          -73.82627000105208,
          -73.85258014651042,
          -73.87233428524421,
          -73.88740409028152,
          -73.87327240599464,
          -73.88366651512729,
          -73.87853862853211,
          -73.86151538226298,
          -73.8461401469076,
          -73.90516101556138,
          -73.90967785797037,
          -73.87959812167095,
          -73.89013626403735,
          -73.73622320543491,
          -73.75898732651578,
          -73.75085502934242,
          -73.84496916779864,
          -73.82829097156879,
          -73.84958248864496,
          -73.84446716762184,
          -73.83603112545742,
          -73.82294194738421,
          -73.81782938878742,
          -73.85862632495306,
          -73.73617793682861,
          -73.76848360361592,
          -73.82729188395311,
          -73.72235916657274,
          -73.74562098696201,
          -73.74225736412704,
          -73.73873341602848,
          -73.78619796391034,
          -73.7930718077558,
          -73.78689246671507,
          -73.77622465325807,
          -73.80963982506046,
          -73.79666071793532,
          -73.79594313885538,
          -73.63890486532071,
          -73.65225977775223,
          -73.7285198981532,
          -73.60805019775405,
          -73.61247665142385,
          -73.72668525334831,
          -73.6668304770781,
          -73.5828897960025,
          -73.63725043396651,
          -73.62878515181205,
          -73.58896872724593,
          -73.64423085733513,
          -73.60689160229141,
          -73.60277478897618,
          -73.62009064936524,
          -73.65130884624688,
          -73.5920439845598,
          -73.56021094518024,
          -73.5838599777378,
          -73.6920666286734,
          -73.64925877492824,
          -73.71729405191047,
          -73.59014755224017,
          -73.64804131767754,
          -73.67371834211906,
          -73.67166659093141,
          -73.5540940421485,
          -73.59649108196682,
          -73.58230324221155,
          -73.63858464533465,
          -73.63682688170651,
          -73.5852322577339,
          -73.64770381004996,
          -73.63887729627714,
          -73.64400646406625,
          -73.70360133253581,
          -73.71651199727904,
          -73.57462492644753,
          -73.64230904745702,
          -73.71155269809803,
          -73.7612443243195,
          -73.79211137736041,
          -73.81670342682993,
          -73.8444449566308,
          -73.90721758784457
         ],
         "y": [
          40.750634137989536,
          40.71577715444839,
          40.73182920815893,
          40.69417035475343,
          40.70600411273923,
          40.709579411928914,
          40.71385770101429,
          40.72640199003519,
          40.73910433457708,
          40.74204168538891,
          40.72558064225421,
          40.72010277357595,
          40.73368304666458,
          40.74522066876264,
          40.752359148996,
          40.75533199727016,
          40.76582261113772,
          40.75921370343449,
          40.76922451046924,
          40.75863041630864,
          40.7759164339891,
          40.79218983088339,
          40.79860136787144,
          40.802380508166834,
          40.81180045081285,
          40.7764416928587,
          40.79176306812216,
          40.81826678858116,
          40.8252881048326,
          40.83879169618583,
          40.85048204002828,
          40.86719849560868,
          40.79545840369395,
          40.75925547023616,
          40.81296042234224,
          40.70930785760337,
          40.83086903277165,
          40.85831445999455,
          40.76190655444597,
          40.76462845322106,
          40.77595982200962,
          40.77336306985648,
          40.760779742532655,
          40.75449855131128,
          40.75911398326273,
          40.75916748852232,
          40.81085196803746,
          40.75030980434362,
          40.7814282825892,
          40.75840350095745,
          40.76362210098417,
          40.757778502600445,
          40.76930826097266,
          40.75213096195819,
          40.75464849450821,
          40.75144841390828,
          40.75439126731301,
          40.7526252593389,
          40.7558993497148,
          40.75527332055368,
          40.75413057073207,
          40.75144100254019,
          40.75513873440762,
          40.75138305285603,
          40.70823557522042,
          40.71513832205645,
          40.71262620644167,
          40.70922031233466,
          40.71664117993972,
          40.62855348330383,
          40.63071575451336,
          40.63236092855682,
          40.60704320477866,
          40.596627915090686,
          40.571524478522086,
          40.50740436341308,
          40.55150884061847,
          40.531258355656426,
          40.63264851876542,
          40.60523060282274,
          40.54485094683094,
          40.59928155585666,
          40.82071711530456,
          40.837391098644645,
          40.85231940632941,
          40.80549204971627,
          40.81471278461194,
          40.82988584222049,
          40.847162099164095,
          40.86252890313892,
          40.825855624576185,
          40.8417361988529,
          40.84739619207021,
          40.84280219371675,
          40.88082730366762,
          40.86806046076156,
          40.82382074176564,
          40.890938503343165,
          40.88090730322335,
          40.86806479340276,
          40.86860951562793,
          40.89590889581575,
          40.89944396526813,
          40.8295564783993,
          40.81817565176165,
          40.81061849592129,
          40.86947095749952,
          40.7462078777544,
          40.7566375639396,
          40.70058688998397,
          40.77105703627729,
          40.78647100980011,
          40.79920079088708,
          40.81707068442664,
          40.79336184314983,
          40.745597794346445,
          40.75854536394101,
          40.84072853366798,
          40.62119384015723,
          40.74677195405938,
          40.77249760440086,
          40.76257559407841,
          40.74464737968757,
          40.778971400023885,
          40.761845164862486,
          40.74593089805914,
          40.69468359939969,
          40.64958971554949,
          40.61877921435954,
          40.69466411816159,
          40.70195386680759,
          40.67075499346304,
          40.66856388080214,
          40.622011894071896,
          40.62814417943712,
          40.71242490020458,
          40.66293217580683,
          40.67107946796301,
          40.598679097703474,
          40.66251619365218,
          40.68076862582264,
          40.682417340470536,
          40.6434769024246,
          40.63266656334678,
          40.64108690453038,
          40.69134015689655,
          40.7285594421612,
          40.59714332679773,
          40.576693875866695,
          40.66304588269086,
          40.64644803714432,
          40.61669868348189,
          40.60080140736469,
          40.62216392095821,
          40.67758038125989,
          40.65630779892833,
          40.678301886149264,
          40.60602436204205,
          40.583951299706186,
          40.639555052498245,
          40.70432927566956,
          40.6791692190686,
          40.6484924474472,
          40.76863861114239,
          40.75146283365016,
          40.78492328947992,
          40.78639287849974,
          40.760470575871366,
          40.79160536860676,
          40.78034837634977,
          40.76374604951239,
          40.75649984679401,
          40.77260634963868,
          40.74529355058099,
          40.73977302026579,
          40.72815732788933,
          40.73039959069711,
          40.74962474507034,
          40.76344487955091,
          40.775678766421606,
          40.77441115210055,
          40.7516751141691,
          40.73884265694251,
          40.7264673455044,
          40.72096287090204,
          40.74482043655891,
          40.72472930140573,
          40.71675260403271,
          40.70104613444264,
          40.69402510060709,
          40.69809539408657,
          40.669868228304246,
          40.658116443880346,
          40.70789992174739,
          40.68462504672629,
          40.67643445804905,
          40.7002094185565,
          40.68863781155653,
          40.67356348872531,
          40.694060120016125,
          40.66046237494772,
          40.71562188432216,
          40.714295855369365,
          40.7364622047219,
          40.73091805888016,
          40.721008271008365,
          40.709781526079695,
          40.647391829339455,
          40.71535858541101,
          40.69816461875834,
          40.676811684625406,
          40.70122873897703,
          40.67581785995118,
          40.70119023668207,
          40.74628565315888,
          40.77084738303048,
          40.58879723150907,
          40.65028131669446,
          40.74989199235448,
          40.62578695777666,
          40.637539112162486,
          40.64999384714519,
          40.72736128032451,
          40.87088122183993,
          40.82706402947424,
          40.83077405881252,
          40.81462597444889,
          40.71728864312369,
          40.7017174852185,
          40.69225078827039,
          40.70674347082836,
          40.719584640904536,
          40.71967809169283,
          40.63740717056274,
          40.60482621750014,
          40.606534257002856,
          40.88054319941818,
          40.589321006569705,
          40.65725282615842,
          40.67506096947292,
          40.66309974990071,
          40.78692957980676,
          40.58978485048268,
          40.66569849111748,
          40.6323443073653,
          40.68044090737734,
          40.798371370180206,
          40.78326420429272,
          40.844015997511214,
          40.67498533981107,
          40.65159726678736,
          40.75541132952931,
          40.75966687654342,
          40.63088668778257,
          40.60146649975309,
          40.5935580718178,
          40.59658205454773,
          40.57762689725073,
          40.55908535714897
         ]
        }
       ],
       "layout": {
        "hovermode": "closest",
        "template": {
         "data": {
          "bar": [
           {
            "error_x": {
             "color": "#2a3f5f"
            },
            "error_y": {
             "color": "#2a3f5f"
            },
            "marker": {
             "line": {
              "color": "#E5ECF6",
              "width": 0.5
             },
             "pattern": {
              "fillmode": "overlay",
              "size": 10,
              "solidity": 0.2
             }
            },
            "type": "bar"
           }
          ],
          "barpolar": [
           {
            "marker": {
             "line": {
              "color": "#E5ECF6",
              "width": 0.5
             },
             "pattern": {
              "fillmode": "overlay",
              "size": 10,
              "solidity": 0.2
             }
            },
            "type": "barpolar"
           }
          ],
          "carpet": [
           {
            "aaxis": {
             "endlinecolor": "#2a3f5f",
             "gridcolor": "white",
             "linecolor": "white",
             "minorgridcolor": "white",
             "startlinecolor": "#2a3f5f"
            },
            "baxis": {
             "endlinecolor": "#2a3f5f",
             "gridcolor": "white",
             "linecolor": "white",
             "minorgridcolor": "white",
             "startlinecolor": "#2a3f5f"
            },
            "type": "carpet"
           }
          ],
          "choropleth": [
           {
            "colorbar": {
             "outlinewidth": 0,
             "ticks": ""
            },
            "type": "choropleth"
           }
          ],
          "contour": [
           {
            "colorbar": {
             "outlinewidth": 0,
             "ticks": ""
            },
            "colorscale": [
             [
              0,
              "#0d0887"
             ],
             [
              0.1111111111111111,
              "#46039f"
             ],
             [
              0.2222222222222222,
              "#7201a8"
             ],
             [
              0.3333333333333333,
              "#9c179e"
             ],
             [
              0.4444444444444444,
              "#bd3786"
             ],
             [
              0.5555555555555556,
              "#d8576b"
             ],
             [
              0.6666666666666666,
              "#ed7953"
             ],
             [
              0.7777777777777778,
              "#fb9f3a"
             ],
             [
              0.8888888888888888,
              "#fdca26"
             ],
             [
              1,
              "#f0f921"
             ]
            ],
            "type": "contour"
           }
          ],
          "contourcarpet": [
           {
            "colorbar": {
             "outlinewidth": 0,
             "ticks": ""
            },
            "type": "contourcarpet"
           }
          ],
          "heatmap": [
           {
            "colorbar": {
             "outlinewidth": 0,
             "ticks": ""
            },
            "colorscale": [
             [
              0,
              "#0d0887"
             ],
             [
              0.1111111111111111,
              "#46039f"
             ],
             [
              0.2222222222222222,
              "#7201a8"
             ],
             [
              0.3333333333333333,
              "#9c179e"
             ],
             [
              0.4444444444444444,
              "#bd3786"
             ],
             [
              0.5555555555555556,
              "#d8576b"
             ],
             [
              0.6666666666666666,
              "#ed7953"
             ],
             [
              0.7777777777777778,
              "#fb9f3a"
             ],
             [
              0.8888888888888888,
              "#fdca26"
             ],
             [
              1,
              "#f0f921"
             ]
            ],
            "type": "heatmap"
           }
          ],
          "heatmapgl": [
           {
            "colorbar": {
             "outlinewidth": 0,
             "ticks": ""
            },
            "colorscale": [
             [
              0,
              "#0d0887"
             ],
             [
              0.1111111111111111,
              "#46039f"
             ],
             [
              0.2222222222222222,
              "#7201a8"
             ],
             [
              0.3333333333333333,
              "#9c179e"
             ],
             [
              0.4444444444444444,
              "#bd3786"
             ],
             [
              0.5555555555555556,
              "#d8576b"
             ],
             [
              0.6666666666666666,
              "#ed7953"
             ],
             [
              0.7777777777777778,
              "#fb9f3a"
             ],
             [
              0.8888888888888888,
              "#fdca26"
             ],
             [
              1,
              "#f0f921"
             ]
            ],
            "type": "heatmapgl"
           }
          ],
          "histogram": [
           {
            "marker": {
             "pattern": {
              "fillmode": "overlay",
              "size": 10,
              "solidity": 0.2
             }
            },
            "type": "histogram"
           }
          ],
          "histogram2d": [
           {
            "colorbar": {
             "outlinewidth": 0,
             "ticks": ""
            },
            "colorscale": [
             [
              0,
              "#0d0887"
             ],
             [
              0.1111111111111111,
              "#46039f"
             ],
             [
              0.2222222222222222,
              "#7201a8"
             ],
             [
              0.3333333333333333,
              "#9c179e"
             ],
             [
              0.4444444444444444,
              "#bd3786"
             ],
             [
              0.5555555555555556,
              "#d8576b"
             ],
             [
              0.6666666666666666,
              "#ed7953"
             ],
             [
              0.7777777777777778,
              "#fb9f3a"
             ],
             [
              0.8888888888888888,
              "#fdca26"
             ],
             [
              1,
              "#f0f921"
             ]
            ],
            "type": "histogram2d"
           }
          ],
          "histogram2dcontour": [
           {
            "colorbar": {
             "outlinewidth": 0,
             "ticks": ""
            },
            "colorscale": [
             [
              0,
              "#0d0887"
             ],
             [
              0.1111111111111111,
              "#46039f"
             ],
             [
              0.2222222222222222,
              "#7201a8"
             ],
             [
              0.3333333333333333,
              "#9c179e"
             ],
             [
              0.4444444444444444,
              "#bd3786"
             ],
             [
              0.5555555555555556,
              "#d8576b"
             ],
             [
              0.6666666666666666,
              "#ed7953"
             ],
             [
              0.7777777777777778,
              "#fb9f3a"
             ],
             [
              0.8888888888888888,
              "#fdca26"
             ],
             [
              1,
              "#f0f921"
             ]
            ],
            "type": "histogram2dcontour"
           }
          ],
          "mesh3d": [
           {
            "colorbar": {
             "outlinewidth": 0,
             "ticks": ""
            },
            "type": "mesh3d"
           }
          ],
          "parcoords": [
           {
            "line": {
             "colorbar": {
              "outlinewidth": 0,
              "ticks": ""
             }
            },
            "type": "parcoords"
           }
          ],
          "pie": [
           {
            "automargin": true,
            "type": "pie"
           }
          ],
          "scatter": [
           {
            "fillpattern": {
             "fillmode": "overlay",
             "size": 10,
             "solidity": 0.2
            },
            "type": "scatter"
           }
          ],
          "scatter3d": [
           {
            "line": {
             "colorbar": {
              "outlinewidth": 0,
              "ticks": ""
             }
            },
            "marker": {
             "colorbar": {
              "outlinewidth": 0,
              "ticks": ""
             }
            },
            "type": "scatter3d"
           }
          ],
          "scattercarpet": [
           {
            "marker": {
             "colorbar": {
              "outlinewidth": 0,
              "ticks": ""
             }
            },
            "type": "scattercarpet"
           }
          ],
          "scattergeo": [
           {
            "marker": {
             "colorbar": {
              "outlinewidth": 0,
              "ticks": ""
             }
            },
            "type": "scattergeo"
           }
          ],
          "scattergl": [
           {
            "marker": {
             "colorbar": {
              "outlinewidth": 0,
              "ticks": ""
             }
            },
            "type": "scattergl"
           }
          ],
          "scattermapbox": [
           {
            "marker": {
             "colorbar": {
              "outlinewidth": 0,
              "ticks": ""
             }
            },
            "type": "scattermapbox"
           }
          ],
          "scatterpolar": [
           {
            "marker": {
             "colorbar": {
              "outlinewidth": 0,
              "ticks": ""
             }
            },
            "type": "scatterpolar"
           }
          ],
          "scatterpolargl": [
           {
            "marker": {
             "colorbar": {
              "outlinewidth": 0,
              "ticks": ""
             }
            },
            "type": "scatterpolargl"
           }
          ],
          "scatterternary": [
           {
            "marker": {
             "colorbar": {
              "outlinewidth": 0,
              "ticks": ""
             }
            },
            "type": "scatterternary"
           }
          ],
          "surface": [
           {
            "colorbar": {
             "outlinewidth": 0,
             "ticks": ""
            },
            "colorscale": [
             [
              0,
              "#0d0887"
             ],
             [
              0.1111111111111111,
              "#46039f"
             ],
             [
              0.2222222222222222,
              "#7201a8"
             ],
             [
              0.3333333333333333,
              "#9c179e"
             ],
             [
              0.4444444444444444,
              "#bd3786"
             ],
             [
              0.5555555555555556,
              "#d8576b"
             ],
             [
              0.6666666666666666,
              "#ed7953"
             ],
             [
              0.7777777777777778,
              "#fb9f3a"
             ],
             [
              0.8888888888888888,
              "#fdca26"
             ],
             [
              1,
              "#f0f921"
             ]
            ],
            "type": "surface"
           }
          ],
          "table": [
           {
            "cells": {
             "fill": {
              "color": "#EBF0F8"
             },
             "line": {
              "color": "white"
             }
            },
            "header": {
             "fill": {
              "color": "#C8D4E3"
             },
             "line": {
              "color": "white"
             }
            },
            "type": "table"
           }
          ]
         },
         "layout": {
          "annotationdefaults": {
           "arrowcolor": "#2a3f5f",
           "arrowhead": 0,
           "arrowwidth": 1
          },
          "autotypenumbers": "strict",
          "coloraxis": {
           "colorbar": {
            "outlinewidth": 0,
            "ticks": ""
           }
          },
          "colorscale": {
           "diverging": [
            [
             0,
             "#8e0152"
            ],
            [
             0.1,
             "#c51b7d"
            ],
            [
             0.2,
             "#de77ae"
            ],
            [
             0.3,
             "#f1b6da"
            ],
            [
             0.4,
             "#fde0ef"
            ],
            [
             0.5,
             "#f7f7f7"
            ],
            [
             0.6,
             "#e6f5d0"
            ],
            [
             0.7,
             "#b8e186"
            ],
            [
             0.8,
             "#7fbc41"
            ],
            [
             0.9,
             "#4d9221"
            ],
            [
             1,
             "#276419"
            ]
           ],
           "sequential": [
            [
             0,
             "#0d0887"
            ],
            [
             0.1111111111111111,
             "#46039f"
            ],
            [
             0.2222222222222222,
             "#7201a8"
            ],
            [
             0.3333333333333333,
             "#9c179e"
            ],
            [
             0.4444444444444444,
             "#bd3786"
            ],
            [
             0.5555555555555556,
             "#d8576b"
            ],
            [
             0.6666666666666666,
             "#ed7953"
            ],
            [
             0.7777777777777778,
             "#fb9f3a"
            ],
            [
             0.8888888888888888,
             "#fdca26"
            ],
            [
             1,
             "#f0f921"
            ]
           ],
           "sequentialminus": [
            [
             0,
             "#0d0887"
            ],
            [
             0.1111111111111111,
             "#46039f"
            ],
            [
             0.2222222222222222,
             "#7201a8"
            ],
            [
             0.3333333333333333,
             "#9c179e"
            ],
            [
             0.4444444444444444,
             "#bd3786"
            ],
            [
             0.5555555555555556,
             "#d8576b"
            ],
            [
             0.6666666666666666,
             "#ed7953"
            ],
            [
             0.7777777777777778,
             "#fb9f3a"
            ],
            [
             0.8888888888888888,
             "#fdca26"
            ],
            [
             1,
             "#f0f921"
            ]
           ]
          },
          "colorway": [
           "#636efa",
           "#EF553B",
           "#00cc96",
           "#ab63fa",
           "#FFA15A",
           "#19d3f3",
           "#FF6692",
           "#B6E880",
           "#FF97FF",
           "#FECB52"
          ],
          "font": {
           "color": "#2a3f5f"
          },
          "geo": {
           "bgcolor": "white",
           "lakecolor": "white",
           "landcolor": "#E5ECF6",
           "showlakes": true,
           "showland": true,
           "subunitcolor": "white"
          },
          "hoverlabel": {
           "align": "left"
          },
          "hovermode": "closest",
          "mapbox": {
           "style": "light"
          },
          "paper_bgcolor": "white",
          "plot_bgcolor": "#E5ECF6",
          "polar": {
           "angularaxis": {
            "gridcolor": "white",
            "linecolor": "white",
            "ticks": ""
           },
           "bgcolor": "#E5ECF6",
           "radialaxis": {
            "gridcolor": "white",
            "linecolor": "white",
            "ticks": ""
           }
          },
          "scene": {
           "xaxis": {
            "backgroundcolor": "#E5ECF6",
            "gridcolor": "white",
            "gridwidth": 2,
            "linecolor": "white",
            "showbackground": true,
            "ticks": "",
            "zerolinecolor": "white"
           },
           "yaxis": {
            "backgroundcolor": "#E5ECF6",
            "gridcolor": "white",
            "gridwidth": 2,
            "linecolor": "white",
            "showbackground": true,
            "ticks": "",
            "zerolinecolor": "white"
           },
           "zaxis": {
            "backgroundcolor": "#E5ECF6",
            "gridcolor": "white",
            "gridwidth": 2,
            "linecolor": "white",
            "showbackground": true,
            "ticks": "",
            "zerolinecolor": "white"
           }
          },
          "shapedefaults": {
           "line": {
            "color": "#2a3f5f"
           }
          },
          "ternary": {
           "aaxis": {
            "gridcolor": "white",
            "linecolor": "white",
            "ticks": ""
           },
           "baxis": {
            "gridcolor": "white",
            "linecolor": "white",
            "ticks": ""
           },
           "bgcolor": "#E5ECF6",
           "caxis": {
            "gridcolor": "white",
            "linecolor": "white",
            "ticks": ""
           }
          },
          "title": {
           "x": 0.05
          },
          "xaxis": {
           "automargin": true,
           "gridcolor": "white",
           "linecolor": "white",
           "ticks": "",
           "title": {
            "standoff": 15
           },
           "zerolinecolor": "white",
           "zerolinewidth": 2
          },
          "yaxis": {
           "automargin": true,
           "gridcolor": "white",
           "linecolor": "white",
           "ticks": "",
           "title": {
            "standoff": 15
           },
           "zerolinecolor": "white",
           "zerolinewidth": 2
          }
         }
        },
        "title": {
         "text": "New York ZIP Code Clusters (Median Income of all Families)"
        },
        "xaxis": {
         "range": [
          -74.3,
          -73.8
         ],
         "title": {
          "text": "Longitude"
         }
        },
        "yaxis": {
         "range": [
          40.5,
          40.9
         ],
         "title": {
          "text": "Latitude"
         }
        }
       }
      }
     },
     "metadata": {},
     "output_type": "display_data"
    }
   ],
   "source": [
    "import pandas as pd\n",
    "import plotly.graph_objs as go\n",
    "from plotly.offline import iplot\n",
    "from sklearn.cluster import KMeans\n",
    "from sklearn.preprocessing import StandardScaler\n",
    "from sklearn.impute import SimpleImputer\n",
    "\n",
    "def load_and_preprocess_data(data_path):\n",
    "    df = pd.read_csv(data_path)\n",
    "    df['Median Income of all Families'] = pd.to_numeric(df['Median Income of all Families'], errors='coerce')\n",
    "    imputer = SimpleImputer(strategy='median')\n",
    "    df['Median Income of all Families'] = imputer.fit_transform(df[['Median Income of all Families']])\n",
    "    df.dropna(subset=['longitude', 'latitude', 'Median Income of all Families'], inplace=True)\n",
    "    df['Scaled_Income'] = df['Median Income of all Families'] / 1000\n",
    "    return df\n",
    "\n",
    "def perform_clustering(df):\n",
    "    if 'Cluster' not in df.columns:\n",
    "        features = df[['longitude', 'latitude', 'Median Income of all Families']]\n",
    "        scaler = StandardScaler()\n",
    "        features_scaled = scaler.fit_transform(features)\n",
    "        kmeans = KMeans(n_clusters=4, random_state=42)\n",
    "        df['Cluster'] = kmeans.fit_predict(features_scaled)\n",
    "    return df\n",
    "\n",
    "def create_plot(df):\n",
    "    scaling_factor = df['Median Income of all Families'].max() / 100  # Adjust this value as needed\n",
    "    df['Scaled_Income'] = df['Median Income of all Families'] / scaling_factor\n",
    "\n",
    "    data = [\n",
    "        {\n",
    "            'x': df[\"longitude\"],\n",
    "            'y': df[\"latitude\"],\n",
    "            'text': df.apply(lambda row: f'ZIP: {row[\"Zip Code\"]}<br>Income: ${row[\"Median Income of all Families\"]}', axis=1),\n",
    "            'mode': 'markers',\n",
    "            'marker': {\n",
    "                'color': df[\"Cluster\"],\n",
    "                'size': df['Scaled_Income'],\n",
    "                'opacity': 0.5,  # You may want to lower this further\n",
    "                'showscale': True,\n",
    "                'colorscale': 'Portland'\n",
    "            }\n",
    "        }\n",
    "    ]\n",
    "\n",
    "    layout = go.Layout(\n",
    "        title='New York ZIP Code Clusters (Median Income of all Families)',\n",
    "        xaxis=dict(title='Longitude', range=[-74.3, -73.8]),\n",
    "        yaxis=dict(title='Latitude', range=[40.5, 40.9]),\n",
    "        hovermode='closest'\n",
    "    )\n",
    "\n",
    "    fig = go.Figure(data=data, layout=layout)\n",
    "    iplot(fig)\n",
    "\n",
    "\n",
    "data_path = '/Users/alejandrodiaz/Documents/GitHub/DS_Project/data/processed/cleaned_data.csv'\n",
    "df = load_and_preprocess_data(data_path)\n",
    "df = perform_clustering(df)\n",
    "create_plot(df)"
   ]
  }
 ],
 "metadata": {
  "kernelspec": {
   "display_name": "Python 3 (ipykernel)",
   "language": "python",
   "name": "python3"
  },
  "language_info": {
   "codemirror_mode": {
    "name": "ipython",
    "version": 3
   },
   "file_extension": ".py",
   "mimetype": "text/x-python",
   "name": "python",
   "nbconvert_exporter": "python",
   "pygments_lexer": "ipython3",
   "version": "3.11.6"
  }
 },
 "nbformat": 4,
 "nbformat_minor": 5
}
